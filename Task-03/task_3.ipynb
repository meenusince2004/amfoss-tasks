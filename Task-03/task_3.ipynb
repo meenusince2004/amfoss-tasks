{
  "nbformat": 4,
  "nbformat_minor": 0,
  "metadata": {
    "colab": {
      "provenance": []
    },
    "kernelspec": {
      "name": "python3",
      "display_name": "Python 3"
    },
    "language_info": {
      "name": "python"
    }
  },
  "cells": [
    {
      "cell_type": "code",
      "execution_count": 4,
      "metadata": {
        "colab": {
          "base_uri": "https://localhost:8080/"
        },
        "id": "7MaCNVO0yor0",
        "outputId": "445135b5-ce76-45e3-e8cb-a6528eb21300"
      },
      "outputs": [
        {
          "output_type": "stream",
          "name": "stdout",
          "text": [
            "50\n",
            "2\n",
            "3\n",
            "5\n",
            "7\n",
            "11\n",
            "13\n",
            "17\n",
            "19\n",
            "23\n",
            "29\n",
            "31\n",
            "37\n",
            "41\n",
            "43\n",
            "47\n"
          ]
        }
      ],
      "source": [
        "start = 2\n",
        "n = int(input())\n",
        "for number in range(start, n + 1):\n",
        "  if number > 1:\n",
        "    for i in range(start, number):\n",
        "      if(number % i) == 0:\n",
        "        break\n",
        "    else:\n",
        "      print(number)"
      ]
    }
  ]
}